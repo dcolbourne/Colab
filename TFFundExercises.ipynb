{
  "nbformat": 4,
  "nbformat_minor": 0,
  "metadata": {
    "colab": {
      "provenance": [],
      "toc_visible": true,
      "authorship_tag": "ABX9TyNpR+cdIT5fbyK+TOU/icnp",
      "include_colab_link": true
    },
    "kernelspec": {
      "name": "python3",
      "display_name": "Python 3"
    },
    "language_info": {
      "name": "python"
    }
  },
  "cells": [
    {
      "cell_type": "markdown",
      "metadata": {
        "id": "view-in-github",
        "colab_type": "text"
      },
      "source": [
        "<a href=\"https://colab.research.google.com/github/dcolbourne/Colab/blob/TensorFlow/TFFundExercises.ipynb\" target=\"_parent\"><img src=\"https://colab.research.google.com/assets/colab-badge.svg\" alt=\"Open In Colab\"/></a>"
      ]
    },
    {
      "cell_type": "markdown",
      "source": [
        "### TensorFlow Fundamental Exercises\n"
      ],
      "metadata": {
        "id": "HE88wXymwcH3"
      }
    },
    {
      "cell_type": "code",
      "source": [
        "import tensorflow as tf"
      ],
      "metadata": {
        "id": "B7lZLhtm10hV"
      },
      "execution_count": 2,
      "outputs": []
    },
    {
      "cell_type": "code",
      "source": [
        "# 1. Create a vector, scalar, matrix and tensor with values of your choosing using tf.constant().\n",
        "\n",
        "vector_1 = tf.random.uniform(shape=[1], minval=0, maxval=25)\n",
        "vector_1, vector_1.ndim"
      ],
      "metadata": {
        "colab": {
          "base_uri": "https://localhost:8080/"
        },
        "id": "s-eKkSymxNso",
        "outputId": "ee020fb6-1fd8-40f0-84fb-81e297344bee"
      },
      "execution_count": 3,
      "outputs": [
        {
          "output_type": "execute_result",
          "data": {
            "text/plain": [
              "(<tf.Tensor: shape=(1,), dtype=float32, numpy=array([14.555976], dtype=float32)>,\n",
              " 1)"
            ]
          },
          "metadata": {},
          "execution_count": 3
        }
      ]
    },
    {
      "cell_type": "code",
      "source": [],
      "metadata": {
        "id": "qg1SU6Wn4eT_"
      },
      "execution_count": 3,
      "outputs": []
    },
    {
      "cell_type": "markdown",
      "source": [
        "Scalar\n",
        "\n",
        "Definition: A scalar is a single numerical value. It has no direction or dimensions.\n",
        "Example: Temperature (e.g., 25 degrees Celsius) or mass (e.g., 10 kg).\n",
        "Vector\n",
        "\n",
        "Definition: A vector is a one-dimensional array of numbers, which can represent a quantity that has both magnitude and direction.\n",
        "Notation: Often represented as  \n",
        "v\n",
        "=\n",
        "[\n",
        "v\n",
        "1\n",
        ",\n",
        "v\n",
        "2\n",
        ",\n",
        "…\n",
        ",\n",
        "v\n",
        "n\n",
        "]\n",
        " .\n",
        "Example: Velocity (e.g., 60 km/h to the north) or a force (e.g., 10 N at an angle).\n",
        "Matrix\n",
        "\n",
        "Definition: A matrix is a two-dimensional array of numbers, organized in rows and columns.\n",
        "Notation: Typically represented as  \n",
        "A\n",
        "=\n",
        "(\n",
        "a\n",
        "11\n",
        "a\n",
        "12\n",
        "a\n",
        "21\n",
        "a\n",
        "22\n",
        ")\n",
        " .\n",
        "Example: A transformation matrix in linear algebra or a data table with rows representing different observations and columns representing different variables.\n",
        "Tensor\n",
        "\n",
        "Definition: A tensor is a multi-dimensional generalization of scalars, vectors, and matrices. Tensors can have any number of dimensions (also called ranks).\n",
        "Notation: A tensor can be represented as  \n",
        "T\n",
        "i\n",
        "1\n",
        "i\n",
        "2\n",
        "…\n",
        "i\n",
        "n\n",
        " , where  \n",
        "i\n",
        "1\n",
        ",\n",
        "i\n",
        "2\n",
        ",\n",
        "…\n",
        ",\n",
        "i\n",
        "n\n",
        "  index the dimensions.\n",
        "Example: A 3D tensor could represent the RGB color values of an image, where each pixel has three color channels (red, green, blue).\n",
        "Summary\n",
        "\n",
        "Scalar: 0D (single value).\n",
        "Vector: 1D (array of values).\n",
        "Matrix: 2D (array of values organized in rows and columns).\n",
        "Tensor: nD (generalization of scalars, vectors, and matrices)."
      ],
      "metadata": {
        "id": "y7LKtdv04XIf"
      }
    },
    {
      "cell_type": "code",
      "source": [
        "vector_2 = tf.constant([1,2,3,4,5])\n",
        "vector_2"
      ],
      "metadata": {
        "colab": {
          "base_uri": "https://localhost:8080/"
        },
        "id": "2l9OdqrGzGXO",
        "outputId": "14be6691-1eb3-4914-a304-674c130e66fe"
      },
      "execution_count": 4,
      "outputs": [
        {
          "output_type": "execute_result",
          "data": {
            "text/plain": [
              "<tf.Tensor: shape=(5,), dtype=int32, numpy=array([1, 2, 3, 4, 5], dtype=int32)>"
            ]
          },
          "metadata": {},
          "execution_count": 4
        }
      ]
    },
    {
      "cell_type": "code",
      "source": [
        "vector_1.dtype, vector_2.shape, vector_2.ndim"
      ],
      "metadata": {
        "colab": {
          "base_uri": "https://localhost:8080/"
        },
        "id": "kVOAc66fxN_F",
        "outputId": "a93901da-5d30-4a8f-c32a-78198784f6ac"
      },
      "execution_count": 5,
      "outputs": [
        {
          "output_type": "execute_result",
          "data": {
            "text/plain": [
              "(tf.float32, TensorShape([5]), 1)"
            ]
          },
          "metadata": {},
          "execution_count": 5
        }
      ]
    },
    {
      "cell_type": "code",
      "source": [
        "scalar_1 =tf.constant(1)\n",
        "scalar_1"
      ],
      "metadata": {
        "colab": {
          "base_uri": "https://localhost:8080/"
        },
        "id": "SIIG57I200Je",
        "outputId": "bedff1bb-1405-49fd-cff8-3bc6684a5d78"
      },
      "execution_count": 6,
      "outputs": [
        {
          "output_type": "execute_result",
          "data": {
            "text/plain": [
              "<tf.Tensor: shape=(), dtype=int32, numpy=1>"
            ]
          },
          "metadata": {},
          "execution_count": 6
        }
      ]
    },
    {
      "cell_type": "code",
      "source": [
        "scalar_1.dtype, scalar_1.shape, scalar_1.ndim"
      ],
      "metadata": {
        "colab": {
          "base_uri": "https://localhost:8080/"
        },
        "id": "X-wVKR-g07bN",
        "outputId": "4aedacbe-331d-4043-a0e8-ba7813f7b6c7"
      },
      "execution_count": 7,
      "outputs": [
        {
          "output_type": "execute_result",
          "data": {
            "text/plain": [
              "(tf.int32, TensorShape([]), 0)"
            ]
          },
          "metadata": {},
          "execution_count": 7
        }
      ]
    },
    {
      "cell_type": "code",
      "source": [
        "Matrix_1 = tf.constant([[1,2],[3,4]])\n",
        "Matrix_1"
      ],
      "metadata": {
        "colab": {
          "base_uri": "https://localhost:8080/"
        },
        "id": "8vpXusKyzRkI",
        "outputId": "b4bdd5af-2cac-48c4-8d12-6a0e0b98e1d1"
      },
      "execution_count": 8,
      "outputs": [
        {
          "output_type": "execute_result",
          "data": {
            "text/plain": [
              "<tf.Tensor: shape=(2, 2), dtype=int32, numpy=\n",
              "array([[1, 2],\n",
              "       [3, 4]], dtype=int32)>"
            ]
          },
          "metadata": {},
          "execution_count": 8
        }
      ]
    },
    {
      "cell_type": "code",
      "source": [
        "Matrix_1.dtype, Matrix_1.shape, Matrix_1.ndim"
      ],
      "metadata": {
        "colab": {
          "base_uri": "https://localhost:8080/"
        },
        "id": "0gVfvlGY0JFO",
        "outputId": "faaa6fcd-683c-46bf-8545-b505fb23d9ec"
      },
      "execution_count": 9,
      "outputs": [
        {
          "output_type": "execute_result",
          "data": {
            "text/plain": [
              "(tf.int32, TensorShape([2, 2]), 2)"
            ]
          },
          "metadata": {},
          "execution_count": 9
        }
      ]
    },
    {
      "cell_type": "code",
      "source": [
        "tensor_1 = tf.constant([[[1,2],[3,4]],[[4,5],[5,6]]])\n",
        "tensor_1"
      ],
      "metadata": {
        "colab": {
          "base_uri": "https://localhost:8080/"
        },
        "id": "s4832jv60POP",
        "outputId": "f1a57264-1146-43b5-ddb8-974f3eb3a2df"
      },
      "execution_count": 10,
      "outputs": [
        {
          "output_type": "execute_result",
          "data": {
            "text/plain": [
              "<tf.Tensor: shape=(2, 2, 2), dtype=int32, numpy=\n",
              "array([[[1, 2],\n",
              "        [3, 4]],\n",
              "\n",
              "       [[4, 5],\n",
              "        [5, 6]]], dtype=int32)>"
            ]
          },
          "metadata": {},
          "execution_count": 10
        }
      ]
    },
    {
      "cell_type": "code",
      "source": [
        "tensor_1.dtype, tensor_1.shape, tensor_1.ndim"
      ],
      "metadata": {
        "colab": {
          "base_uri": "https://localhost:8080/"
        },
        "id": "O43MjjqI0iu2",
        "outputId": "dd2f3f8c-f568-4ce5-a268-4a2b2bc62f84"
      },
      "execution_count": 11,
      "outputs": [
        {
          "output_type": "execute_result",
          "data": {
            "text/plain": [
              "(tf.int32, TensorShape([2, 2, 2]), 3)"
            ]
          },
          "metadata": {},
          "execution_count": 11
        }
      ]
    },
    {
      "cell_type": "code",
      "source": [
        "# 2. Find the shape, rank, and size of the tensors created in 1\n"
      ],
      "metadata": {
        "id": "xKaHcfXK0tcu"
      },
      "execution_count": 12,
      "outputs": []
    },
    {
      "cell_type": "code",
      "source": [
        "vector_1.shape, tf.rank(vector_1), tf.size(vector_1)"
      ],
      "metadata": {
        "colab": {
          "base_uri": "https://localhost:8080/"
        },
        "id": "hWIqwQao3EFR",
        "outputId": "cad6697e-f70f-442e-9d34-4ac93440e257"
      },
      "execution_count": 13,
      "outputs": [
        {
          "output_type": "execute_result",
          "data": {
            "text/plain": [
              "(TensorShape([1]),\n",
              " <tf.Tensor: shape=(), dtype=int32, numpy=1>,\n",
              " <tf.Tensor: shape=(), dtype=int32, numpy=1>)"
            ]
          },
          "metadata": {},
          "execution_count": 13
        }
      ]
    },
    {
      "cell_type": "code",
      "source": [
        "scalar_1.shape, tf.rank(scalar_1), tf.size(scalar_1)"
      ],
      "metadata": {
        "colab": {
          "base_uri": "https://localhost:8080/"
        },
        "id": "80gbRFIt3EHy",
        "outputId": "fa629c7a-a25c-4bd6-d69b-91a788f17a01"
      },
      "execution_count": 14,
      "outputs": [
        {
          "output_type": "execute_result",
          "data": {
            "text/plain": [
              "(TensorShape([]),\n",
              " <tf.Tensor: shape=(), dtype=int32, numpy=0>,\n",
              " <tf.Tensor: shape=(), dtype=int32, numpy=1>)"
            ]
          },
          "metadata": {},
          "execution_count": 14
        }
      ]
    },
    {
      "cell_type": "code",
      "source": [
        "Matrix_1.shape, tf.rank(Matrix_1), tf.size(Matrix_1)"
      ],
      "metadata": {
        "colab": {
          "base_uri": "https://localhost:8080/"
        },
        "id": "gO4UPhsq3EKA",
        "outputId": "0b2d3c84-0b67-4332-c55b-9e512f299d6f"
      },
      "execution_count": 15,
      "outputs": [
        {
          "output_type": "execute_result",
          "data": {
            "text/plain": [
              "(TensorShape([2, 2]),\n",
              " <tf.Tensor: shape=(), dtype=int32, numpy=2>,\n",
              " <tf.Tensor: shape=(), dtype=int32, numpy=4>)"
            ]
          },
          "metadata": {},
          "execution_count": 15
        }
      ]
    },
    {
      "cell_type": "code",
      "source": [
        "tensor_1.shape, tf.rank(tensor_1), tf.size(tensor_1)"
      ],
      "metadata": {
        "colab": {
          "base_uri": "https://localhost:8080/"
        },
        "id": "2ylTdikw3EML",
        "outputId": "bd75472a-2af1-4ba4-d6a4-4dbd7a980a4c"
      },
      "execution_count": 16,
      "outputs": [
        {
          "output_type": "execute_result",
          "data": {
            "text/plain": [
              "(TensorShape([2, 2, 2]),\n",
              " <tf.Tensor: shape=(), dtype=int32, numpy=3>,\n",
              " <tf.Tensor: shape=(), dtype=int32, numpy=8>)"
            ]
          },
          "metadata": {},
          "execution_count": 16
        }
      ]
    },
    {
      "cell_type": "code",
      "source": [
        "# 3 Create two tensors containing random values between 0 and 1 with shape [5,300]\n",
        "\n",
        "tensor_2 = tf.random.uniform(shape = [5,300], minval=0, maxval=1)\n",
        "\n",
        "tensor_3 = tf.random.uniform(shape = [5,300], minval=0, maxval=1)\n",
        "\n",
        "tensor_2, tensor_3"
      ],
      "metadata": {
        "colab": {
          "base_uri": "https://localhost:8080/"
        },
        "id": "2lq_f_xh3EOZ",
        "outputId": "3b234bd5-f658-4265-d58c-1e0ea39afeb3"
      },
      "execution_count": 17,
      "outputs": [
        {
          "output_type": "execute_result",
          "data": {
            "text/plain": [
              "(<tf.Tensor: shape=(5, 300), dtype=float32, numpy=\n",
              " array([[0.3840071 , 0.819281  , 0.9943638 , ..., 0.04706609, 0.7734312 ,\n",
              "         0.53552806],\n",
              "        [0.22466123, 0.8971895 , 0.76166   , ..., 0.47852147, 0.5238277 ,\n",
              "         0.7964239 ],\n",
              "        [0.30995452, 0.4967996 , 0.45913756, ..., 0.5601436 , 0.7004179 ,\n",
              "         0.94215846],\n",
              "        [0.4216919 , 0.32739305, 0.57523453, ..., 0.8093033 , 0.08450186,\n",
              "         0.07517076],\n",
              "        [0.35338306, 0.87372005, 0.69817555, ..., 0.303864  , 0.8260374 ,\n",
              "         0.2370348 ]], dtype=float32)>,\n",
              " <tf.Tensor: shape=(5, 300), dtype=float32, numpy=\n",
              " array([[0.04490769, 0.24131167, 0.5739844 , ..., 0.5856122 , 0.24334943,\n",
              "         0.60325766],\n",
              "        [0.49590743, 0.281901  , 0.42589462, ..., 0.5568234 , 0.6786443 ,\n",
              "         0.16218936],\n",
              "        [0.96173   , 0.12748086, 0.29475892, ..., 0.19731891, 0.8622116 ,\n",
              "         0.00629914],\n",
              "        [0.43618333, 0.7511157 , 0.4339664 , ..., 0.9039768 , 0.9285008 ,\n",
              "         0.4505148 ],\n",
              "        [0.286615  , 0.3672372 , 0.9776256 , ..., 0.7043619 , 0.4369352 ,\n",
              "         0.75502753]], dtype=float32)>)"
            ]
          },
          "metadata": {},
          "execution_count": 17
        }
      ]
    },
    {
      "cell_type": "code",
      "source": [
        "# 4.Multiply the two sensors you created in 3 using matrix multiplication\n",
        "tf.linalg.matmul(tensor_2, tf.transpose(tensor_3))"
      ],
      "metadata": {
        "colab": {
          "base_uri": "https://localhost:8080/"
        },
        "id": "LMD-GZsT5HX2",
        "outputId": "6a23efff-413c-4989-fcf9-2c8657ddd404"
      },
      "execution_count": 26,
      "outputs": [
        {
          "output_type": "execute_result",
          "data": {
            "text/plain": [
              "<tf.Tensor: shape=(5, 5), dtype=float32, numpy=\n",
              "array([[72.84636 , 73.55881 , 67.79257 , 75.21025 , 74.879814],\n",
              "       [76.26132 , 76.91911 , 72.12543 , 78.73442 , 78.25084 ],\n",
              "       [77.81265 , 78.42283 , 71.31287 , 78.03071 , 77.464584],\n",
              "       [77.202774, 78.58699 , 74.0576  , 79.53933 , 78.156586],\n",
              "       [73.72766 , 76.43826 , 70.27637 , 74.21005 , 74.54742 ]],\n",
              "      dtype=float32)>"
            ]
          },
          "metadata": {},
          "execution_count": 26
        }
      ]
    },
    {
      "cell_type": "markdown",
      "source": [],
      "metadata": {
        "id": "VombtU3MAqNs"
      }
    },
    {
      "cell_type": "code",
      "source": [
        "tensor_3.dtype"
      ],
      "metadata": {
        "colab": {
          "base_uri": "https://localhost:8080/"
        },
        "id": "2pvrB03d5jJk",
        "outputId": "d5d29c00-7899-4a02-d7d5-da7148eca2c3"
      },
      "execution_count": 19,
      "outputs": [
        {
          "output_type": "execute_result",
          "data": {
            "text/plain": [
              "tf.float32"
            ]
          },
          "metadata": {},
          "execution_count": 19
        }
      ]
    },
    {
      "cell_type": "code",
      "source": [
        "# 5.Multiply the two sensors you created in 3 using dot product.\n",
        "\n",
        "tf.tensordot(tensor_2, tf.transpose(tensor_3), axes=1)"
      ],
      "metadata": {
        "colab": {
          "base_uri": "https://localhost:8080/"
        },
        "id": "hgimjMGa5mOv",
        "outputId": "b7a021f2-c306-479a-ca04-045db77cf741"
      },
      "execution_count": 29,
      "outputs": [
        {
          "output_type": "execute_result",
          "data": {
            "text/plain": [
              "<tf.Tensor: shape=(5, 5), dtype=float32, numpy=\n",
              "array([[72.84636 , 73.55881 , 67.79257 , 75.21025 , 74.879814],\n",
              "       [76.26132 , 76.91911 , 72.12543 , 78.73442 , 78.25084 ],\n",
              "       [77.81265 , 78.42283 , 71.31287 , 78.03071 , 77.464584],\n",
              "       [77.202774, 78.58699 , 74.0576  , 79.53933 , 78.156586],\n",
              "       [73.72766 , 76.43826 , 70.27637 , 74.21005 , 74.54742 ]],\n",
              "      dtype=float32)>"
            ]
          },
          "metadata": {},
          "execution_count": 29
        }
      ]
    },
    {
      "cell_type": "code",
      "source": [
        "# 6.Create a tensor with random values between 0 and 1 with shape [224, 224, 3]\n"
      ],
      "metadata": {
        "id": "rZxdBO6UvtcP"
      },
      "execution_count": 30,
      "outputs": []
    },
    {
      "cell_type": "code",
      "source": [
        "tf.random.set_seed(42)\n",
        "tensor_5 = tf.random.uniform(shape = [224, 224, 3], minval=0, maxval=1)\n",
        "tensor_5"
      ],
      "metadata": {
        "colab": {
          "base_uri": "https://localhost:8080/"
        },
        "id": "_pIPFk4zxz2D",
        "outputId": "f22b76d5-8c76-47e4-9d45-b6c384a158c2"
      },
      "execution_count": 38,
      "outputs": [
        {
          "output_type": "execute_result",
          "data": {
            "text/plain": [
              "<tf.Tensor: shape=(224, 224, 3), dtype=float32, numpy=\n",
              "array([[[0.6645621 , 0.44100678, 0.3528825 ],\n",
              "        [0.46448255, 0.03366041, 0.68467236],\n",
              "        [0.74011743, 0.8724445 , 0.22632635],\n",
              "        ...,\n",
              "        [0.42612267, 0.09686017, 0.16105258],\n",
              "        [0.1487099 , 0.04513884, 0.9497483 ],\n",
              "        [0.4393103 , 0.28527975, 0.96971095]],\n",
              "\n",
              "       [[0.73308516, 0.5657046 , 0.33238935],\n",
              "        [0.8838178 , 0.87544763, 0.56711245],\n",
              "        [0.8879347 , 0.47661996, 0.42041814],\n",
              "        ...,\n",
              "        [0.7716515 , 0.9116473 , 0.3229897 ],\n",
              "        [0.43050945, 0.83253574, 0.45549798],\n",
              "        [0.29816985, 0.9639522 , 0.3316357 ]],\n",
              "\n",
              "       [[0.41132426, 0.2179662 , 0.53570235],\n",
              "        [0.5112119 , 0.6484759 , 0.8894886 ],\n",
              "        [0.42459428, 0.20189774, 0.85781324],\n",
              "        ...,\n",
              "        [0.02888799, 0.3995477 , 0.11355484],\n",
              "        [0.68524575, 0.04945195, 0.17778492],\n",
              "        [0.97627187, 0.79811585, 0.9411576 ]],\n",
              "\n",
              "       ...,\n",
              "\n",
              "       [[0.9019445 , 0.27011132, 0.8090267 ],\n",
              "        [0.32395256, 0.6672456 , 0.940673  ],\n",
              "        [0.7166116 , 0.8860713 , 0.6777594 ],\n",
              "        ...,\n",
              "        [0.8318608 , 0.39227867, 0.68916583],\n",
              "        [0.1599741 , 0.46428144, 0.4656595 ],\n",
              "        [0.8619243 , 0.24755931, 0.33835268]],\n",
              "\n",
              "       [[0.47570062, 0.09377229, 0.11811328],\n",
              "        [0.0523994 , 0.38206005, 0.12188685],\n",
              "        [0.2757113 , 0.44918692, 0.9179864 ],\n",
              "        ...,\n",
              "        [0.4974177 , 0.4562863 , 0.8261535 ],\n",
              "        [0.60251105, 0.27676368, 0.258716  ],\n",
              "        [0.7977431 , 0.74125385, 0.76062095]],\n",
              "\n",
              "       [[0.4755299 , 0.4661665 , 0.14167643],\n",
              "        [0.9103775 , 0.41117966, 0.83182037],\n",
              "        [0.79765654, 0.38330686, 0.5313202 ],\n",
              "        ...,\n",
              "        [0.94517136, 0.17730081, 0.00362825],\n",
              "        [0.6170398 , 0.9977623 , 0.8315122 ],\n",
              "        [0.6683676 , 0.68716586, 0.4447713 ]]], dtype=float32)>"
            ]
          },
          "metadata": {},
          "execution_count": 38
        }
      ]
    },
    {
      "cell_type": "code",
      "source": [
        "# 7.Find the min and max values of the tensor you created in 6 along the first axis.\n",
        "tf.math.reduce_min(tensor_5), tf.math.reduce_max(tensor_5)"
      ],
      "metadata": {
        "colab": {
          "base_uri": "https://localhost:8080/"
        },
        "id": "3-N44Tiyxz4Q",
        "outputId": "f7bb89ff-a02f-4ed3-9cad-bfca33469eed"
      },
      "execution_count": 72,
      "outputs": [
        {
          "output_type": "execute_result",
          "data": {
            "text/plain": [
              "(<tf.Tensor: shape=(), dtype=float32, numpy=3.5762787e-07>,\n",
              " <tf.Tensor: shape=(), dtype=float32, numpy=0.999998>)"
            ]
          },
          "metadata": {},
          "execution_count": 72
        }
      ]
    },
    {
      "cell_type": "code",
      "source": [
        "# 8. Created a tensor with random values of shape [1, 224, 224, 3] then squeeze it to change the shape to [224, 224, 3]\n",
        "\n",
        "tf.random.set_seed(42)\n",
        "sq_tensor = tf.random.uniform(shape= (1,224,224,3))\n",
        "sq_tensor.shape"
      ],
      "metadata": {
        "colab": {
          "base_uri": "https://localhost:8080/"
        },
        "id": "mASBu2rrBMj7",
        "outputId": "f1d3ced2-6b07-4a35-a835-563a3315b2ab"
      },
      "execution_count": 76,
      "outputs": [
        {
          "output_type": "execute_result",
          "data": {
            "text/plain": [
              "TensorShape([1, 224, 224, 3])"
            ]
          },
          "metadata": {},
          "execution_count": 76
        }
      ]
    },
    {
      "cell_type": "code",
      "source": [
        "sq2_tensor = tf.squeeze(sq_tensor)\n",
        "sq2_tensor.shape"
      ],
      "metadata": {
        "colab": {
          "base_uri": "https://localhost:8080/"
        },
        "id": "V1kobZeuB2zE",
        "outputId": "d7c4c872-c652-46e6-8671-edabfedda934"
      },
      "execution_count": 78,
      "outputs": [
        {
          "output_type": "execute_result",
          "data": {
            "text/plain": [
              "TensorShape([224, 224, 3])"
            ]
          },
          "metadata": {},
          "execution_count": 78
        }
      ]
    },
    {
      "cell_type": "code",
      "source": [
        "# 9.Create a tensor with shape [10] using your own choice of values, then find the index which has the maximum value.\n",
        "tensor_6 = tf.constant([0,1,2,3,4,5,6,7,16,9])\n",
        "tensor_6, tensor_6.shape"
      ],
      "metadata": {
        "colab": {
          "base_uri": "https://localhost:8080/"
        },
        "id": "fmol5ZGZxz6z",
        "outputId": "37531549-200f-47dd-8fc4-4d241ea52ca1"
      },
      "execution_count": 114,
      "outputs": [
        {
          "output_type": "execute_result",
          "data": {
            "text/plain": [
              "(<tf.Tensor: shape=(10,), dtype=int32, numpy=array([ 0,  1,  2,  3,  4,  5,  6,  7, 16,  9], dtype=int32)>,\n",
              " TensorShape([10]))"
            ]
          },
          "metadata": {},
          "execution_count": 114
        }
      ]
    },
    {
      "cell_type": "code",
      "source": [
        "max_value = tf.argmax(tensor_6)\n",
        "\n",
        "print(f'The indices where the vaule is maximum: {max_value}')\n",
        "print(f'The maximum value was: {tensor_6[max_value]}')"
      ],
      "metadata": {
        "colab": {
          "base_uri": "https://localhost:8080/"
        },
        "id": "jnGqjw750i4d",
        "outputId": "ef7f3981-54f3-4f33-ebe7-8eef16468602"
      },
      "execution_count": 115,
      "outputs": [
        {
          "output_type": "stream",
          "name": "stdout",
          "text": [
            "The indices where the vaule is maximum: 8\n",
            "The maximum value was: 16\n"
          ]
        }
      ]
    },
    {
      "cell_type": "code",
      "source": [
        "import numpy as np\n",
        "# tf.one_hot(np.array(tensor_6), depth=16)\n",
        "tf.one_hot(tf.cast(tensor_6, dtype = tf.int32), depth=10)"
      ],
      "metadata": {
        "colab": {
          "base_uri": "https://localhost:8080/"
        },
        "id": "gnH-X4l9xz85",
        "outputId": "7cbb0d11-ab2d-4dbc-92c2-a19259fcaee5"
      },
      "execution_count": 117,
      "outputs": [
        {
          "output_type": "execute_result",
          "data": {
            "text/plain": [
              "<tf.Tensor: shape=(10, 10), dtype=float32, numpy=\n",
              "array([[1., 0., 0., 0., 0., 0., 0., 0., 0., 0.],\n",
              "       [0., 1., 0., 0., 0., 0., 0., 0., 0., 0.],\n",
              "       [0., 0., 1., 0., 0., 0., 0., 0., 0., 0.],\n",
              "       [0., 0., 0., 1., 0., 0., 0., 0., 0., 0.],\n",
              "       [0., 0., 0., 0., 1., 0., 0., 0., 0., 0.],\n",
              "       [0., 0., 0., 0., 0., 1., 0., 0., 0., 0.],\n",
              "       [0., 0., 0., 0., 0., 0., 1., 0., 0., 0.],\n",
              "       [0., 0., 0., 0., 0., 0., 0., 1., 0., 0.],\n",
              "       [0., 0., 0., 0., 0., 0., 0., 0., 0., 0.],\n",
              "       [0., 0., 0., 0., 0., 0., 0., 0., 0., 1.]], dtype=float32)>"
            ]
          },
          "metadata": {},
          "execution_count": 117
        }
      ]
    },
    {
      "cell_type": "code",
      "source": [],
      "metadata": {
        "id": "YBepTKyoEyWu"
      },
      "execution_count": null,
      "outputs": []
    },
    {
      "cell_type": "code",
      "source": [],
      "metadata": {
        "id": "6qJx9Bpnxz_c"
      },
      "execution_count": 54,
      "outputs": []
    },
    {
      "cell_type": "code",
      "source": [],
      "metadata": {
        "id": "8b6_gz729Rg7"
      },
      "execution_count": null,
      "outputs": []
    }
  ]
}